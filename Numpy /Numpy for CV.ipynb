{
 "cells": [
  {
   "cell_type": "code",
   "execution_count": 1,
   "metadata": {},
   "outputs": [],
   "source": [
    "import numpy as np"
   ]
  },
  {
   "cell_type": "code",
   "execution_count": 5,
   "metadata": {},
   "outputs": [],
   "source": [
    "np.random.seed(101)\n",
    "\n",
    "arr = np.random.randint(0,100,10)"
   ]
  },
  {
   "cell_type": "code",
   "execution_count": 11,
   "metadata": {},
   "outputs": [
    {
     "data": {
      "text/plain": [
       "95"
      ]
     },
     "execution_count": 11,
     "metadata": {},
     "output_type": "execute_result"
    }
   ],
   "source": [
    "arr.max()"
   ]
  },
  {
   "cell_type": "code",
   "execution_count": 12,
   "metadata": {},
   "outputs": [
    {
     "data": {
      "text/plain": [
       "0"
      ]
     },
     "execution_count": 12,
     "metadata": {},
     "output_type": "execute_result"
    }
   ],
   "source": [
    "arr.argmax()"
   ]
  },
  {
   "cell_type": "code",
   "execution_count": 24,
   "metadata": {},
   "outputs": [],
   "source": [
    "mat = np.arange(1,101).reshape((10,10))"
   ]
  },
  {
   "cell_type": "code",
   "execution_count": 25,
   "metadata": {},
   "outputs": [
    {
     "data": {
      "text/plain": [
       "array([[  1,   2,   3,   4,   5,   6,   7,   8,   9,  10],\n",
       "       [ 11,  12,  13,  14,  15,  16,  17,  18,  19,  20],\n",
       "       [ 21,  22,  23,  24,  25,  26,  27,  28,  29,  30],\n",
       "       [ 31,  32,  33,  34,  35,  36,  37,  38,  39,  40],\n",
       "       [ 41,  42,  43,  44,  45,  46,  47,  48,  49,  50],\n",
       "       [ 51,  52,  53,  54,  55,  56,  57,  58,  59,  60],\n",
       "       [ 61,  62,  63,  64,  65,  66,  67,  68,  69,  70],\n",
       "       [ 71,  72,  73,  74,  75,  76,  77,  78,  79,  80],\n",
       "       [ 81,  82,  83,  84,  85,  86,  87,  88,  89,  90],\n",
       "       [ 91,  92,  93,  94,  95,  96,  97,  98,  99, 100]])"
      ]
     },
     "execution_count": 25,
     "metadata": {},
     "output_type": "execute_result"
    }
   ],
   "source": [
    "mat"
   ]
  },
  {
   "cell_type": "code",
   "execution_count": 22,
   "metadata": {},
   "outputs": [
    {
     "data": {
      "text/plain": [
       "(10, 10)"
      ]
     },
     "execution_count": 22,
     "metadata": {},
     "output_type": "execute_result"
    }
   ],
   "source": [
    "mat.shape"
   ]
  },
  {
   "cell_type": "code",
   "execution_count": 26,
   "metadata": {},
   "outputs": [
    {
     "data": {
      "text/plain": [
       "33"
      ]
     },
     "execution_count": 26,
     "metadata": {},
     "output_type": "execute_result"
    }
   ],
   "source": [
    "mat[3,2]"
   ]
  },
  {
   "cell_type": "code",
   "execution_count": 27,
   "metadata": {},
   "outputs": [
    {
     "data": {
      "text/plain": [
       "65"
      ]
     },
     "execution_count": 27,
     "metadata": {},
     "output_type": "execute_result"
    }
   ],
   "source": [
    "mat[6,4]"
   ]
  },
  {
   "cell_type": "code",
   "execution_count": 28,
   "metadata": {},
   "outputs": [
    {
     "data": {
      "text/plain": [
       "54"
      ]
     },
     "execution_count": 28,
     "metadata": {},
     "output_type": "execute_result"
    }
   ],
   "source": [
    "mat[5,3]"
   ]
  },
  {
   "cell_type": "code",
   "execution_count": 34,
   "metadata": {},
   "outputs": [
    {
     "data": {
      "text/plain": [
       "(10,)"
      ]
     },
     "execution_count": 34,
     "metadata": {},
     "output_type": "execute_result"
    }
   ],
   "source": [
    "mat[:,1].shape"
   ]
  },
  {
   "cell_type": "code",
   "execution_count": 36,
   "metadata": {},
   "outputs": [
    {
     "data": {
      "text/plain": [
       "array([[ 2],\n",
       "       [12],\n",
       "       [22],\n",
       "       [32],\n",
       "       [42],\n",
       "       [52],\n",
       "       [62],\n",
       "       [72],\n",
       "       [82],\n",
       "       [92]])"
      ]
     },
     "execution_count": 36,
     "metadata": {},
     "output_type": "execute_result"
    }
   ],
   "source": [
    "mat[:,1].reshape(10,1)"
   ]
  },
  {
   "cell_type": "code",
   "execution_count": 39,
   "metadata": {},
   "outputs": [],
   "source": [
    "mat[0:7,0:2] = 0"
   ]
  },
  {
   "cell_type": "code",
   "execution_count": 40,
   "metadata": {},
   "outputs": [
    {
     "data": {
      "text/plain": [
       "array([[  0,   0,   3,   4,   5,   6,   7,   8,   9,  10],\n",
       "       [  0,   0,  13,  14,  15,  16,  17,  18,  19,  20],\n",
       "       [  0,   0,  23,  24,  25,  26,  27,  28,  29,  30],\n",
       "       [  0,   0,  33,  34,  35,  36,  37,  38,  39,  40],\n",
       "       [  0,   0,  43,  44,  45,  46,  47,  48,  49,  50],\n",
       "       [  0,   0,  53,  54,  55,  56,  57,  58,  59,  60],\n",
       "       [  0,   0,  63,  64,  65,  66,  67,  68,  69,  70],\n",
       "       [ 71,  72,  73,  74,  75,  76,  77,  78,  79,  80],\n",
       "       [ 81,  82,  83,  84,  85,  86,  87,  88,  89,  90],\n",
       "       [ 91,  92,  93,  94,  95,  96,  97,  98,  99, 100]])"
      ]
     },
     "execution_count": 40,
     "metadata": {},
     "output_type": "execute_result"
    }
   ],
   "source": [
    "mat"
   ]
  },
  {
   "cell_type": "code",
   "execution_count": 41,
   "metadata": {},
   "outputs": [],
   "source": [
    "new_mat = mat.copy()"
   ]
  },
  {
   "cell_type": "code",
   "execution_count": 43,
   "metadata": {},
   "outputs": [],
   "source": [
    "mat[:,5] =0"
   ]
  },
  {
   "cell_type": "code",
   "execution_count": 44,
   "metadata": {},
   "outputs": [
    {
     "data": {
      "text/plain": [
       "array([[  0,   0,   3,   4,   5,   0,   7,   8,   9,  10],\n",
       "       [  0,   0,  13,  14,  15,   0,  17,  18,  19,  20],\n",
       "       [  0,   0,  23,  24,  25,   0,  27,  28,  29,  30],\n",
       "       [  0,   0,  33,  34,  35,   0,  37,  38,  39,  40],\n",
       "       [  0,   0,  43,  44,  45,   0,  47,  48,  49,  50],\n",
       "       [  0,   0,  53,  54,  55,   0,  57,  58,  59,  60],\n",
       "       [  0,   0,  63,  64,  65,   0,  67,  68,  69,  70],\n",
       "       [ 71,  72,  73,  74,  75,   0,  77,  78,  79,  80],\n",
       "       [ 81,  82,  83,  84,  85,   0,  87,  88,  89,  90],\n",
       "       [ 91,  92,  93,  94,  95,   0,  97,  98,  99, 100]])"
      ]
     },
     "execution_count": 44,
     "metadata": {},
     "output_type": "execute_result"
    }
   ],
   "source": [
    "mat"
   ]
  },
  {
   "cell_type": "code",
   "execution_count": 45,
   "metadata": {},
   "outputs": [
    {
     "data": {
      "text/plain": [
       "array([[  0,   0,   3,   4,   5,   6,   7,   8,   9,  10],\n",
       "       [  0,   0,  13,  14,  15,  16,  17,  18,  19,  20],\n",
       "       [  0,   0,  23,  24,  25,  26,  27,  28,  29,  30],\n",
       "       [  0,   0,  33,  34,  35,  36,  37,  38,  39,  40],\n",
       "       [  0,   0,  43,  44,  45,  46,  47,  48,  49,  50],\n",
       "       [  0,   0,  53,  54,  55,  56,  57,  58,  59,  60],\n",
       "       [  0,   0,  63,  64,  65,  66,  67,  68,  69,  70],\n",
       "       [ 71,  72,  73,  74,  75,  76,  77,  78,  79,  80],\n",
       "       [ 81,  82,  83,  84,  85,  86,  87,  88,  89,  90],\n",
       "       [ 91,  92,  93,  94,  95,  96,  97,  98,  99, 100]])"
      ]
     },
     "execution_count": 45,
     "metadata": {},
     "output_type": "execute_result"
    }
   ],
   "source": [
    "new_mat"
   ]
  },
  {
   "cell_type": "code",
   "execution_count": 46,
   "metadata": {},
   "outputs": [],
   "source": [
    "mat[0:6,:] = 999"
   ]
  },
  {
   "cell_type": "code",
   "execution_count": 47,
   "metadata": {},
   "outputs": [
    {
     "data": {
      "text/plain": [
       "array([[999, 999, 999, 999, 999, 999, 999, 999, 999, 999],\n",
       "       [999, 999, 999, 999, 999, 999, 999, 999, 999, 999],\n",
       "       [999, 999, 999, 999, 999, 999, 999, 999, 999, 999],\n",
       "       [999, 999, 999, 999, 999, 999, 999, 999, 999, 999],\n",
       "       [999, 999, 999, 999, 999, 999, 999, 999, 999, 999],\n",
       "       [999, 999, 999, 999, 999, 999, 999, 999, 999, 999],\n",
       "       [  0,   0,  63,  64,  65,   0,  67,  68,  69,  70],\n",
       "       [ 71,  72,  73,  74,  75,   0,  77,  78,  79,  80],\n",
       "       [ 81,  82,  83,  84,  85,   0,  87,  88,  89,  90],\n",
       "       [ 91,  92,  93,  94,  95,   0,  97,  98,  99, 100]])"
      ]
     },
     "execution_count": 47,
     "metadata": {},
     "output_type": "execute_result"
    }
   ],
   "source": [
    "mat"
   ]
  },
  {
   "cell_type": "code",
   "execution_count": null,
   "metadata": {},
   "outputs": [],
   "source": []
  },
  {
   "cell_type": "code",
   "execution_count": null,
   "metadata": {},
   "outputs": [],
   "source": []
  },
  {
   "cell_type": "code",
   "execution_count": null,
   "metadata": {},
   "outputs": [],
   "source": []
  },
  {
   "cell_type": "code",
   "execution_count": null,
   "metadata": {},
   "outputs": [],
   "source": []
  },
  {
   "cell_type": "code",
   "execution_count": null,
   "metadata": {},
   "outputs": [],
   "source": []
  },
  {
   "cell_type": "code",
   "execution_count": null,
   "metadata": {},
   "outputs": [],
   "source": []
  },
  {
   "cell_type": "code",
   "execution_count": 30,
   "metadata": {},
   "outputs": [
    {
     "data": {
      "text/plain": [
       "array([11, 12, 13, 14, 15, 16, 17, 18, 19, 20])"
      ]
     },
     "execution_count": 30,
     "metadata": {},
     "output_type": "execute_result"
    }
   ],
   "source": [
    "mat[1,:]"
   ]
  },
  {
   "cell_type": "code",
   "execution_count": null,
   "metadata": {},
   "outputs": [],
   "source": []
  },
  {
   "cell_type": "code",
   "execution_count": null,
   "metadata": {},
   "outputs": [],
   "source": []
  },
  {
   "cell_type": "code",
   "execution_count": null,
   "metadata": {},
   "outputs": [],
   "source": []
  },
  {
   "cell_type": "code",
   "execution_count": null,
   "metadata": {},
   "outputs": [],
   "source": []
  },
  {
   "cell_type": "code",
   "execution_count": null,
   "metadata": {},
   "outputs": [],
   "source": []
  },
  {
   "cell_type": "code",
   "execution_count": null,
   "metadata": {},
   "outputs": [],
   "source": []
  },
  {
   "cell_type": "code",
   "execution_count": null,
   "metadata": {},
   "outputs": [],
   "source": []
  }
 ],
 "metadata": {
  "kernelspec": {
   "display_name": "Python 3",
   "language": "python",
   "name": "python3"
  },
  "language_info": {
   "codemirror_mode": {
    "name": "ipython",
    "version": 3
   },
   "file_extension": ".py",
   "mimetype": "text/x-python",
   "name": "python",
   "nbconvert_exporter": "python",
   "pygments_lexer": "ipython3",
   "version": "3.8.3"
  }
 },
 "nbformat": 4,
 "nbformat_minor": 4
}
